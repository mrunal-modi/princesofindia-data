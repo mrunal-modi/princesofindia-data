{
 "cells": [
  {
   "cell_type": "code",
   "execution_count": 32,
   "id": "0dc74ba1",
   "metadata": {},
   "outputs": [],
   "source": [
    "import pandas as pd\n",
    "\n",
    "# Load the CSV files\n",
    "persons_df = pd.read_csv('https://raw.githubusercontent.com/mrunal-modi/princesofindia-data/main/_persons.csv')\n",
    "states_df = pd.read_csv('https://raw.githubusercontent.com/mrunal-modi/princesofindia-data/main/_states.csv')\n",
    "locations_df = pd.read_csv('https://raw.githubusercontent.com/mrunal-modi/princesofindia-data/main/_locations.csv')\n",
    "\n",
    "# Convert the 'state' columns in states_df and locations_df to lowercase for case-insensitive matching\n",
    "states_df['state'] = states_df['state'].str.lower()\n",
    "locations_df['state'] = locations_df['state'].str.lower()\n",
    "\n",
    "# Combine the two lists of states and remove duplicates\n",
    "combined_states = pd.concat([states_df['state'], locations_df['state']]).drop_duplicates().tolist()\n",
    "\n",
    "# Function to find the first occurrence of a state in a bio\n",
    "def find_location_in_bio(bio):\n",
    "    for state in combined_states:\n",
    "        if state.lower() in bio.lower():\n",
    "            return state\n",
    "    return None\n",
    "\n",
    "# Apply the function to the 'bio' column of the persons_df\n",
    "persons_df['location'] = persons_df['bio'].apply(find_location_in_bio)\n",
    "\n",
    "# Save the updated DataFrame to a new CSV file\n",
    "persons_df.to_csv('_persons_location.csv', index=False)"
   ]
  },
  {
   "cell_type": "code",
   "execution_count": null,
   "id": "83e2a9b0",
   "metadata": {},
   "outputs": [],
   "source": []
  }
 ],
 "metadata": {
  "kernelspec": {
   "display_name": "Python 3 (ipykernel)",
   "language": "python",
   "name": "python3"
  },
  "language_info": {
   "codemirror_mode": {
    "name": "ipython",
    "version": 3
   },
   "file_extension": ".py",
   "mimetype": "text/x-python",
   "name": "python",
   "nbconvert_exporter": "python",
   "pygments_lexer": "ipython3",
   "version": "3.11.4"
  }
 },
 "nbformat": 4,
 "nbformat_minor": 5
}
